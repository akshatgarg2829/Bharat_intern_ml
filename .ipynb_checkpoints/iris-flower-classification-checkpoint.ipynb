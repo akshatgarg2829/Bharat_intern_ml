{
 "cells": [
  {
   "cell_type": "code",
   "execution_count": 1,
   "id": "hydraulic-rwanda",
   "metadata": {
    "execution": {
     "iopub.execute_input": "2021-06-22T12:32:06.187461Z",
     "iopub.status.busy": "2021-06-22T12:32:06.186836Z",
     "iopub.status.idle": "2021-06-22T12:32:06.974130Z",
     "shell.execute_reply": "2021-06-22T12:32:06.973370Z",
     "shell.execute_reply.started": "2021-05-30T08:59:19.668974Z"
    },
    "papermill": {
     "duration": 0.833392,
     "end_time": "2021-06-22T12:32:06.974308",
     "exception": false,
     "start_time": "2021-06-22T12:32:06.140916",
     "status": "completed"
    },
    "tags": []
   },
   "outputs": [],
   "source": [
    "#import libraries\n",
    "import numpy as np\n",
    "import pandas as pd\n",
    "import matplotlib.pyplot as plt\n",
    "import seaborn as sns\n",
    "\n",
    "\n",
    "import warnings\n",
    "warnings.filterwarnings('ignore')\n",
    "\n",
    "\n",
    "plt.style.use(\"fivethirtyeight\")\n",
    "%matplotlib inline"
   ]
  },
  {
   "cell_type": "code",
   "execution_count": 2,
   "id": "integral-belief",
   "metadata": {
    "execution": {
     "iopub.execute_input": "2021-06-22T12:32:07.048310Z",
     "iopub.status.busy": "2021-06-22T12:32:07.047661Z",
     "iopub.status.idle": "2021-06-22T12:32:07.087813Z",
     "shell.execute_reply": "2021-06-22T12:32:07.087144Z",
     "shell.execute_reply.started": "2021-05-30T08:59:19.76087Z"
    },
    "papermill": {
     "duration": 0.079141,
     "end_time": "2021-06-22T12:32:07.087963",
     "exception": false,
     "start_time": "2021-06-22T12:32:07.008822",
     "status": "completed"
    },
    "tags": []
   },
   "outputs": [
    {
     "data": {
      "text/html": [
       "<div>\n",
       "<style scoped>\n",
       "    .dataframe tbody tr th:only-of-type {\n",
       "        vertical-align: middle;\n",
       "    }\n",
       "\n",
       "    .dataframe tbody tr th {\n",
       "        vertical-align: top;\n",
       "    }\n",
       "\n",
       "    .dataframe thead th {\n",
       "        text-align: right;\n",
       "    }\n",
       "</style>\n",
       "<table border=\"1\" class=\"dataframe\">\n",
       "  <thead>\n",
       "    <tr style=\"text-align: right;\">\n",
       "      <th></th>\n",
       "      <th>Id</th>\n",
       "      <th>SepalLengthCm</th>\n",
       "      <th>SepalWidthCm</th>\n",
       "      <th>PetalLengthCm</th>\n",
       "      <th>PetalWidthCm</th>\n",
       "      <th>Species</th>\n",
       "    </tr>\n",
       "  </thead>\n",
       "  <tbody>\n",
       "    <tr>\n",
       "      <th>0</th>\n",
       "      <td>1</td>\n",
       "      <td>5.1</td>\n",
       "      <td>3.5</td>\n",
       "      <td>1.4</td>\n",
       "      <td>0.2</td>\n",
       "      <td>Iris-setosa</td>\n",
       "    </tr>\n",
       "    <tr>\n",
       "      <th>1</th>\n",
       "      <td>2</td>\n",
       "      <td>4.9</td>\n",
       "      <td>3.0</td>\n",
       "      <td>1.4</td>\n",
       "      <td>0.2</td>\n",
       "      <td>Iris-setosa</td>\n",
       "    </tr>\n",
       "    <tr>\n",
       "      <th>2</th>\n",
       "      <td>3</td>\n",
       "      <td>4.7</td>\n",
       "      <td>3.2</td>\n",
       "      <td>1.3</td>\n",
       "      <td>0.2</td>\n",
       "      <td>Iris-setosa</td>\n",
       "    </tr>\n",
       "    <tr>\n",
       "      <th>3</th>\n",
       "      <td>4</td>\n",
       "      <td>4.6</td>\n",
       "      <td>3.1</td>\n",
       "      <td>1.5</td>\n",
       "      <td>0.2</td>\n",
       "      <td>Iris-setosa</td>\n",
       "    </tr>\n",
       "    <tr>\n",
       "      <th>4</th>\n",
       "      <td>5</td>\n",
       "      <td>5.0</td>\n",
       "      <td>3.6</td>\n",
       "      <td>1.4</td>\n",
       "      <td>0.2</td>\n",
       "      <td>Iris-setosa</td>\n",
       "    </tr>\n",
       "  </tbody>\n",
       "</table>\n",
       "</div>"
      ],
      "text/plain": [
       "   Id  SepalLengthCm  SepalWidthCm  PetalLengthCm  PetalWidthCm      Species\n",
       "0   1            5.1           3.5            1.4           0.2  Iris-setosa\n",
       "1   2            4.9           3.0            1.4           0.2  Iris-setosa\n",
       "2   3            4.7           3.2            1.3           0.2  Iris-setosa\n",
       "3   4            4.6           3.1            1.5           0.2  Iris-setosa\n",
       "4   5            5.0           3.6            1.4           0.2  Iris-setosa"
      ]
     },
     "execution_count": 2,
     "metadata": {},
     "output_type": "execute_result"
    }
   ],
   "source": [
    "df=pd.read_csv('Iris.csv')\n",
    "df.head()"
   ]
  },
  {
   "cell_type": "code",
   "execution_count": 3,
   "id": "associate-standard",
   "metadata": {
    "execution": {
     "iopub.execute_input": "2021-06-22T12:32:07.162307Z",
     "iopub.status.busy": "2021-06-22T12:32:07.161617Z",
     "iopub.status.idle": "2021-06-22T12:32:07.181614Z",
     "shell.execute_reply": "2021-06-22T12:32:07.182103Z",
     "shell.execute_reply.started": "2021-05-30T08:59:19.791276Z"
    },
    "papermill": {
     "duration": 0.057809,
     "end_time": "2021-06-22T12:32:07.182303",
     "exception": false,
     "start_time": "2021-06-22T12:32:07.124494",
     "status": "completed"
    },
    "tags": []
   },
   "outputs": [
    {
     "name": "stdout",
     "output_type": "stream",
     "text": [
      "<class 'pandas.core.frame.DataFrame'>\n",
      "RangeIndex: 150 entries, 0 to 149\n",
      "Data columns (total 6 columns):\n",
      " #   Column         Non-Null Count  Dtype  \n",
      "---  ------         --------------  -----  \n",
      " 0   Id             150 non-null    int64  \n",
      " 1   SepalLengthCm  150 non-null    float64\n",
      " 2   SepalWidthCm   150 non-null    float64\n",
      " 3   PetalLengthCm  150 non-null    float64\n",
      " 4   PetalWidthCm   150 non-null    float64\n",
      " 5   Species        150 non-null    object \n",
      "dtypes: float64(4), int64(1), object(1)\n",
      "memory usage: 7.2+ KB\n"
     ]
    }
   ],
   "source": [
    "#information about the dataset\n",
    "df.info()   "
   ]
  },
  {
   "cell_type": "code",
   "execution_count": 4,
   "id": "still-behavior",
   "metadata": {
    "execution": {
     "iopub.execute_input": "2021-06-22T12:32:07.277480Z",
     "iopub.status.busy": "2021-06-22T12:32:07.276298Z",
     "iopub.status.idle": "2021-06-22T12:32:07.302233Z",
     "shell.execute_reply": "2021-06-22T12:32:07.302748Z",
     "shell.execute_reply.started": "2021-05-30T08:59:19.897311Z"
    },
    "papermill": {
     "duration": 0.083265,
     "end_time": "2021-06-22T12:32:07.302941",
     "exception": false,
     "start_time": "2021-06-22T12:32:07.219676",
     "status": "completed"
    },
    "tags": []
   },
   "outputs": [
    {
     "data": {
      "text/html": [
       "<div>\n",
       "<style scoped>\n",
       "    .dataframe tbody tr th:only-of-type {\n",
       "        vertical-align: middle;\n",
       "    }\n",
       "\n",
       "    .dataframe tbody tr th {\n",
       "        vertical-align: top;\n",
       "    }\n",
       "\n",
       "    .dataframe thead th {\n",
       "        text-align: right;\n",
       "    }\n",
       "</style>\n",
       "<table border=\"1\" class=\"dataframe\">\n",
       "  <thead>\n",
       "    <tr style=\"text-align: right;\">\n",
       "      <th></th>\n",
       "      <th>Id</th>\n",
       "      <th>SepalLengthCm</th>\n",
       "      <th>SepalWidthCm</th>\n",
       "      <th>PetalLengthCm</th>\n",
       "      <th>PetalWidthCm</th>\n",
       "    </tr>\n",
       "  </thead>\n",
       "  <tbody>\n",
       "    <tr>\n",
       "      <th>count</th>\n",
       "      <td>150.000000</td>\n",
       "      <td>150.000000</td>\n",
       "      <td>150.000000</td>\n",
       "      <td>150.000000</td>\n",
       "      <td>150.000000</td>\n",
       "    </tr>\n",
       "    <tr>\n",
       "      <th>mean</th>\n",
       "      <td>75.500000</td>\n",
       "      <td>5.843333</td>\n",
       "      <td>3.054000</td>\n",
       "      <td>3.758667</td>\n",
       "      <td>1.198667</td>\n",
       "    </tr>\n",
       "    <tr>\n",
       "      <th>std</th>\n",
       "      <td>43.445368</td>\n",
       "      <td>0.828066</td>\n",
       "      <td>0.433594</td>\n",
       "      <td>1.764420</td>\n",
       "      <td>0.763161</td>\n",
       "    </tr>\n",
       "    <tr>\n",
       "      <th>min</th>\n",
       "      <td>1.000000</td>\n",
       "      <td>4.300000</td>\n",
       "      <td>2.000000</td>\n",
       "      <td>1.000000</td>\n",
       "      <td>0.100000</td>\n",
       "    </tr>\n",
       "    <tr>\n",
       "      <th>25%</th>\n",
       "      <td>38.250000</td>\n",
       "      <td>5.100000</td>\n",
       "      <td>2.800000</td>\n",
       "      <td>1.600000</td>\n",
       "      <td>0.300000</td>\n",
       "    </tr>\n",
       "    <tr>\n",
       "      <th>50%</th>\n",
       "      <td>75.500000</td>\n",
       "      <td>5.800000</td>\n",
       "      <td>3.000000</td>\n",
       "      <td>4.350000</td>\n",
       "      <td>1.300000</td>\n",
       "    </tr>\n",
       "    <tr>\n",
       "      <th>75%</th>\n",
       "      <td>112.750000</td>\n",
       "      <td>6.400000</td>\n",
       "      <td>3.300000</td>\n",
       "      <td>5.100000</td>\n",
       "      <td>1.800000</td>\n",
       "    </tr>\n",
       "    <tr>\n",
       "      <th>max</th>\n",
       "      <td>150.000000</td>\n",
       "      <td>7.900000</td>\n",
       "      <td>4.400000</td>\n",
       "      <td>6.900000</td>\n",
       "      <td>2.500000</td>\n",
       "    </tr>\n",
       "  </tbody>\n",
       "</table>\n",
       "</div>"
      ],
      "text/plain": [
       "               Id  SepalLengthCm  SepalWidthCm  PetalLengthCm  PetalWidthCm\n",
       "count  150.000000     150.000000    150.000000     150.000000    150.000000\n",
       "mean    75.500000       5.843333      3.054000       3.758667      1.198667\n",
       "std     43.445368       0.828066      0.433594       1.764420      0.763161\n",
       "min      1.000000       4.300000      2.000000       1.000000      0.100000\n",
       "25%     38.250000       5.100000      2.800000       1.600000      0.300000\n",
       "50%     75.500000       5.800000      3.000000       4.350000      1.300000\n",
       "75%    112.750000       6.400000      3.300000       5.100000      1.800000\n",
       "max    150.000000       7.900000      4.400000       6.900000      2.500000"
      ]
     },
     "execution_count": 4,
     "metadata": {},
     "output_type": "execute_result"
    }
   ],
   "source": [
    "#describing about the dataset\n",
    "df.describe()"
   ]
  },
  {
   "cell_type": "code",
   "execution_count": 5,
   "id": "systematic-fancy",
   "metadata": {
    "execution": {
     "iopub.execute_input": "2021-06-22T12:32:07.385048Z",
     "iopub.status.busy": "2021-06-22T12:32:07.384307Z",
     "iopub.status.idle": "2021-06-22T12:32:07.389489Z",
     "shell.execute_reply": "2021-06-22T12:32:07.389959Z",
     "shell.execute_reply.started": "2021-05-30T08:59:19.93173Z"
    },
    "papermill": {
     "duration": 0.044312,
     "end_time": "2021-06-22T12:32:07.390122",
     "exception": false,
     "start_time": "2021-06-22T12:32:07.345810",
     "status": "completed"
    },
    "tags": []
   },
   "outputs": [
    {
     "data": {
      "text/plain": [
       "(150, 6)"
      ]
     },
     "execution_count": 5,
     "metadata": {},
     "output_type": "execute_result"
    }
   ],
   "source": [
    "df.shape"
   ]
  },
  {
   "cell_type": "code",
   "execution_count": 6,
   "id": "organic-possibility",
   "metadata": {
    "execution": {
     "iopub.execute_input": "2021-06-22T12:32:07.536789Z",
     "iopub.status.busy": "2021-06-22T12:32:07.535845Z",
     "iopub.status.idle": "2021-06-22T12:32:07.540688Z",
     "shell.execute_reply": "2021-06-22T12:32:07.541126Z",
     "shell.execute_reply.started": "2021-05-30T08:59:19.985512Z"
    },
    "papermill": {
     "duration": 0.043647,
     "end_time": "2021-06-22T12:32:07.541292",
     "exception": false,
     "start_time": "2021-06-22T12:32:07.497645",
     "status": "completed"
    },
    "tags": []
   },
   "outputs": [],
   "source": [
    "df.drop('Id',axis=1,inplace=True)"
   ]
  },
  {
   "cell_type": "code",
   "execution_count": 7,
   "id": "ranging-empty",
   "metadata": {
    "execution": {
     "iopub.execute_input": "2021-06-22T12:32:07.616642Z",
     "iopub.status.busy": "2021-06-22T12:32:07.615686Z",
     "iopub.status.idle": "2021-06-22T12:32:07.630611Z",
     "shell.execute_reply": "2021-06-22T12:32:07.630004Z",
     "shell.execute_reply.started": "2021-05-30T08:59:19.994611Z"
    },
    "papermill": {
     "duration": 0.053711,
     "end_time": "2021-06-22T12:32:07.630752",
     "exception": false,
     "start_time": "2021-06-22T12:32:07.577041",
     "status": "completed"
    },
    "tags": []
   },
   "outputs": [
    {
     "data": {
      "text/html": [
       "<div>\n",
       "<style scoped>\n",
       "    .dataframe tbody tr th:only-of-type {\n",
       "        vertical-align: middle;\n",
       "    }\n",
       "\n",
       "    .dataframe tbody tr th {\n",
       "        vertical-align: top;\n",
       "    }\n",
       "\n",
       "    .dataframe thead th {\n",
       "        text-align: right;\n",
       "    }\n",
       "</style>\n",
       "<table border=\"1\" class=\"dataframe\">\n",
       "  <thead>\n",
       "    <tr style=\"text-align: right;\">\n",
       "      <th></th>\n",
       "      <th>SepalLengthCm</th>\n",
       "      <th>SepalWidthCm</th>\n",
       "      <th>PetalLengthCm</th>\n",
       "      <th>PetalWidthCm</th>\n",
       "      <th>Species</th>\n",
       "    </tr>\n",
       "  </thead>\n",
       "  <tbody>\n",
       "    <tr>\n",
       "      <th>0</th>\n",
       "      <td>5.1</td>\n",
       "      <td>3.5</td>\n",
       "      <td>1.4</td>\n",
       "      <td>0.2</td>\n",
       "      <td>Iris-setosa</td>\n",
       "    </tr>\n",
       "    <tr>\n",
       "      <th>1</th>\n",
       "      <td>4.9</td>\n",
       "      <td>3.0</td>\n",
       "      <td>1.4</td>\n",
       "      <td>0.2</td>\n",
       "      <td>Iris-setosa</td>\n",
       "    </tr>\n",
       "    <tr>\n",
       "      <th>2</th>\n",
       "      <td>4.7</td>\n",
       "      <td>3.2</td>\n",
       "      <td>1.3</td>\n",
       "      <td>0.2</td>\n",
       "      <td>Iris-setosa</td>\n",
       "    </tr>\n",
       "    <tr>\n",
       "      <th>3</th>\n",
       "      <td>4.6</td>\n",
       "      <td>3.1</td>\n",
       "      <td>1.5</td>\n",
       "      <td>0.2</td>\n",
       "      <td>Iris-setosa</td>\n",
       "    </tr>\n",
       "    <tr>\n",
       "      <th>4</th>\n",
       "      <td>5.0</td>\n",
       "      <td>3.6</td>\n",
       "      <td>1.4</td>\n",
       "      <td>0.2</td>\n",
       "      <td>Iris-setosa</td>\n",
       "    </tr>\n",
       "  </tbody>\n",
       "</table>\n",
       "</div>"
      ],
      "text/plain": [
       "   SepalLengthCm  SepalWidthCm  PetalLengthCm  PetalWidthCm      Species\n",
       "0            5.1           3.5            1.4           0.2  Iris-setosa\n",
       "1            4.9           3.0            1.4           0.2  Iris-setosa\n",
       "2            4.7           3.2            1.3           0.2  Iris-setosa\n",
       "3            4.6           3.1            1.5           0.2  Iris-setosa\n",
       "4            5.0           3.6            1.4           0.2  Iris-setosa"
      ]
     },
     "execution_count": 7,
     "metadata": {},
     "output_type": "execute_result"
    }
   ],
   "source": [
    "df.head()"
   ]
  },
  {
   "cell_type": "code",
   "execution_count": 8,
   "id": "forward-croatia",
   "metadata": {
    "execution": {
     "iopub.execute_input": "2021-06-22T12:32:07.710262Z",
     "iopub.status.busy": "2021-06-22T12:32:07.709615Z",
     "iopub.status.idle": "2021-06-22T12:32:07.713084Z",
     "shell.execute_reply": "2021-06-22T12:32:07.712502Z",
     "shell.execute_reply.started": "2021-05-30T08:59:20.079474Z"
    },
    "papermill": {
     "duration": 0.046304,
     "end_time": "2021-06-22T12:32:07.713210",
     "exception": false,
     "start_time": "2021-06-22T12:32:07.666906",
     "status": "completed"
    },
    "tags": []
   },
   "outputs": [
    {
     "data": {
      "text/plain": [
       "Iris-setosa        50\n",
       "Iris-versicolor    50\n",
       "Iris-virginica     50\n",
       "Name: Species, dtype: int64"
      ]
     },
     "execution_count": 8,
     "metadata": {},
     "output_type": "execute_result"
    }
   ],
   "source": [
    "#count the value\n",
    "df['Species'].value_counts()"
   ]
  },
  {
   "cell_type": "code",
   "execution_count": 9,
   "id": "victorian-fight",
   "metadata": {
    "execution": {
     "iopub.execute_input": "2021-06-22T12:32:07.789609Z",
     "iopub.status.busy": "2021-06-22T12:32:07.788968Z",
     "iopub.status.idle": "2021-06-22T12:32:07.795648Z",
     "shell.execute_reply": "2021-06-22T12:32:07.796111Z",
     "shell.execute_reply.started": "2021-05-30T08:59:20.091479Z"
    },
    "papermill": {
     "duration": 0.046828,
     "end_time": "2021-06-22T12:32:07.796295",
     "exception": false,
     "start_time": "2021-06-22T12:32:07.749467",
     "status": "completed"
    },
    "tags": []
   },
   "outputs": [
    {
     "data": {
      "text/plain": [
       "SepalLengthCm    0\n",
       "SepalWidthCm     0\n",
       "PetalLengthCm    0\n",
       "PetalWidthCm     0\n",
       "Species          0\n",
       "dtype: int64"
      ]
     },
     "execution_count": 9,
     "metadata": {},
     "output_type": "execute_result"
    }
   ],
   "source": [
    "#finding the null value\n",
    "df.isnull().sum()"
   ]
  },
  {
   "cell_type": "code",
   "execution_count": 11,
   "id": "seasonal-ambassador",
   "metadata": {
    "execution": {
     "iopub.execute_input": "2021-06-22T12:32:08.678327Z",
     "iopub.status.busy": "2021-06-22T12:32:08.677678Z",
     "iopub.status.idle": "2021-06-22T12:32:08.680321Z",
     "shell.execute_reply": "2021-06-22T12:32:08.680775Z",
     "shell.execute_reply.started": "2021-05-30T08:59:20.817928Z"
    },
    "papermill": {
     "duration": 0.049155,
     "end_time": "2021-06-22T12:32:08.680941",
     "exception": false,
     "start_time": "2021-06-22T12:32:08.631786",
     "status": "completed"
    },
    "tags": []
   },
   "outputs": [],
   "source": [
    "df.drop_duplicates(inplace=True)"
   ]
  },
  {
   "cell_type": "code",
   "execution_count": 12,
   "id": "critical-stuff",
   "metadata": {
    "execution": {
     "iopub.execute_input": "2021-06-22T12:32:08.926165Z",
     "iopub.status.busy": "2021-06-22T12:32:08.925562Z",
     "iopub.status.idle": "2021-06-22T12:32:09.105851Z",
     "shell.execute_reply": "2021-06-22T12:32:09.106380Z",
     "shell.execute_reply.started": "2021-05-30T08:59:20.825967Z"
    },
    "papermill": {
     "duration": 0.230789,
     "end_time": "2021-06-22T12:32:09.106548",
     "exception": false,
     "start_time": "2021-06-22T12:32:08.875759",
     "status": "completed"
    },
    "tags": []
   },
   "outputs": [
    {
     "data": {
      "text/plain": [
       "<Axes: xlabel='Species', ylabel='SepalLengthCm'>"
      ]
     },
     "execution_count": 12,
     "metadata": {},
     "output_type": "execute_result"
    },
    {
     "data": {
      "image/png": "[encoded data removed]",
      "text/plain": [
       "<Figure size 1500x800 with 1 Axes>"
      ]
     },
     "metadata": {},
     "output_type": "display_data"
    }
   ],
   "source": [
    "plt.figure(figsize=(15,8))\n",
    "sns.boxplot(x='Species',y='SepalLengthCm',data=df.sort_values('SepalLengthCm',ascending=False))"
   ]
  },
  {
   "cell_type": "code",
   "execution_count": 13,
   "id": "pending-batch",
   "metadata": {
    "execution": {
     "iopub.execute_input": "2021-06-22T12:32:09.268104Z",
     "iopub.status.busy": "2021-06-22T12:32:09.267505Z",
     "iopub.status.idle": "2021-06-22T12:32:09.433790Z",
     "shell.execute_reply": "2021-06-22T12:32:09.434223Z",
     "shell.execute_reply.started": "2021-05-30T08:59:21.026476Z"
    },
    "papermill": {
     "duration": 0.208554,
     "end_time": "2021-06-22T12:32:09.434427",
     "exception": false,
     "start_time": "2021-06-22T12:32:09.225873",
     "status": "completed"
    },
    "tags": []
   },
   "outputs": [
    {
     "data": {
      "text/plain": [
       "<Axes: xlabel='SepalWidthCm', ylabel='SepalLengthCm'>"
      ]
     },
     "execution_count": 13,
     "metadata": {},
     "output_type": "execute_result"
    },
    {
     "data": {
      "image/png": "[encoded data removed]",
      "text/plain": [
       "<Figure size 640x480 with 1 Axes>"
      ]
     },
     "metadata": {},
     "output_type": "display_data"
    }
   ],
   "source": [
    "df.plot(kind='scatter',x='SepalWidthCm',y='SepalLengthCm')"
   ]
  },
  {
   "cell_type": "code",
   "execution_count": 14,
   "id": "legislative-newton",
   "metadata": {
    "execution": {
     "iopub.execute_input": "2021-06-22T12:32:09.599791Z",
     "iopub.status.busy": "2021-06-22T12:32:09.599152Z",
     "iopub.status.idle": "2021-06-22T12:32:10.190068Z",
     "shell.execute_reply": "2021-06-22T12:32:10.189561Z",
     "shell.execute_reply.started": "2021-05-30T08:59:21.197857Z"
    },
    "papermill": {
     "duration": 0.633996,
     "end_time": "2021-06-22T12:32:10.190195",
     "exception": false,
     "start_time": "2021-06-22T12:32:09.556199",
     "status": "completed"
    },
    "tags": []
   },
   "outputs": [
    {
     "data": {
      "text/plain": [
       "<seaborn.axisgrid.JointGrid at 0x21f240b58a0>"
      ]
     },
     "execution_count": 14,
     "metadata": {},
     "output_type": "execute_result"
    },
    {
     "data": {
      "image/png": "[encoded data removed]",
      "text/plain": [
       "<Figure size 600x600 with 3 Axes>"
      ]
     },
     "metadata": {},
     "output_type": "display_data"
    }
   ],
   "source": [
    "sns.jointplot(x=\"SepalLengthCm\", y=\"SepalWidthCm\", data=df, size=5)"
   ]
  },
  {
   "cell_type": "code",
   "execution_count": null,
   "id": "institutional-kingdom",
   "metadata": {
    "execution": {
     "iopub.execute_input": "2021-06-22T12:32:10.382537Z",
     "iopub.status.busy": "2021-06-22T12:32:10.381830Z",
     "iopub.status.idle": "2021-06-22T12:32:14.925957Z",
     "shell.execute_reply": "2021-06-22T12:32:14.926449Z",
     "shell.execute_reply.started": "2021-05-30T08:59:21.738537Z"
    },
    "papermill": {
     "duration": 4.611063,
     "end_time": "2021-06-22T12:32:14.926606",
     "exception": false,
     "start_time": "2021-06-22T12:32:10.315543",
     "status": "completed"
    },
    "tags": []
   },
   "outputs": [
    {
     "data": {
      "text/plain": [
       "<seaborn.axisgrid.PairGrid at 0x21f24bc6ce0>"
      ]
     },
     "execution_count": 15,
     "metadata": {},
     "output_type": "execute_result"
    }
   ],
   "source": [
    "sns.pairplot(df, hue=\"Species\", size=3)"
   ]
  },
  {
   "cell_type": "code",
   "execution_count": null,
   "id": "simplified-selection",
   "metadata": {
    "execution": {
     "iopub.execute_input": "2021-06-22T12:32:15.122528Z",
     "iopub.status.busy": "2021-06-22T12:32:15.121881Z",
     "iopub.status.idle": "2021-06-22T12:32:16.099980Z",
     "shell.execute_reply": "2021-06-22T12:32:16.100701Z",
     "shell.execute_reply.started": "2021-05-30T08:59:26.931315Z"
    },
    "papermill": {
     "duration": 1.029557,
     "end_time": "2021-06-22T12:32:16.100937",
     "exception": false,
     "start_time": "2021-06-22T12:32:15.071380",
     "status": "completed"
    },
    "tags": []
   },
   "outputs": [],
   "source": [
    "df.boxplot(by=\"Species\", figsize=(12, 6))"
   ]
  },
  {
   "cell_type": "code",
   "execution_count": null,
   "id": "worth-healing",
   "metadata": {
    "execution": {
     "iopub.execute_input": "2021-06-22T12:32:16.347613Z",
     "iopub.status.busy": "2021-06-22T12:32:16.345512Z",
     "iopub.status.idle": "2021-06-22T12:32:16.750060Z",
     "shell.execute_reply": "2021-06-22T12:32:16.749583Z",
     "shell.execute_reply.started": "2021-05-30T08:59:27.833102Z"
    },
    "papermill": {
     "duration": 0.495682,
     "end_time": "2021-06-22T12:32:16.750193",
     "exception": false,
     "start_time": "2021-06-22T12:32:16.254511",
     "status": "completed"
    },
    "tags": []
   },
   "outputs": [],
   "source": [
    "import pandas.plotting\n",
    "from pandas.plotting import andrews_curves\n",
    "andrews_curves(df, \"Species\")"
   ]
  },
  {
   "cell_type": "code",
   "execution_count": null,
   "id": "willing-continuity",
   "metadata": {
    "execution": {
     "iopub.execute_input": "2021-06-22T12:32:16.990618Z",
     "iopub.status.busy": "2021-06-22T12:32:16.986387Z",
     "iopub.status.idle": "2021-06-22T12:32:17.228651Z",
     "shell.execute_reply": "2021-06-22T12:32:17.228096Z",
     "shell.execute_reply.started": "2021-05-30T08:59:28.301514Z"
    },
    "papermill": {
     "duration": 0.32391,
     "end_time": "2021-06-22T12:32:17.228787",
     "exception": false,
     "start_time": "2021-06-22T12:32:16.904877",
     "status": "completed"
    },
    "tags": []
   },
   "outputs": [],
   "source": [
    "plt.figure(figsize=(15,15))\n",
    "sns.catplot(x='Species',y='SepalWidthCm',data=df.sort_values('SepalWidthCm',ascending=False),kind='boxen')"
   ]
  },
  {
   "cell_type": "code",
   "execution_count": null,
   "id": "chubby-queue",
   "metadata": {
    "execution": {
     "iopub.execute_input": "2021-06-22T12:32:17.465802Z",
     "iopub.status.busy": "2021-06-22T12:32:17.465082Z",
     "iopub.status.idle": "2021-06-22T12:32:18.090573Z",
     "shell.execute_reply": "2021-06-22T12:32:18.091068Z",
     "shell.execute_reply.started": "2021-05-30T08:59:28.581452Z"
    },
    "papermill": {
     "duration": 0.703343,
     "end_time": "2021-06-22T12:32:18.091227",
     "exception": false,
     "start_time": "2021-06-22T12:32:17.387884",
     "status": "completed"
    },
    "tags": []
   },
   "outputs": [],
   "source": [
    "plt.figure(figsize=(15,10))\n",
    "plt.subplot(2,2,1)\n",
    "sns.violinplot(x='Species',y='PetalLengthCm',data=df)\n",
    "plt.subplot(2,2,2)\n",
    "sns.violinplot(x='Species',y='PetalWidthCm',data=df)\n",
    "plt.subplot(2,2,3)\n",
    "sns.violinplot(x='Species',y='SepalLengthCm',data=df)\n",
    "plt.subplot(2,2,4)\n",
    "sns.violinplot(x='Species',y='SepalWidthCm',data=df)"
   ]
  },
  {
   "cell_type": "code",
   "execution_count": null,
   "id": "sharing-center",
   "metadata": {
    "execution": {
     "iopub.execute_input": "2021-06-22T12:32:18.350217Z",
     "iopub.status.busy": "2021-06-22T12:32:18.349534Z",
     "iopub.status.idle": "2021-06-22T12:32:18.351619Z",
     "shell.execute_reply": "2021-06-22T12:32:18.352082Z",
     "shell.execute_reply.started": "2021-05-30T08:59:29.3006Z"
    },
    "papermill": {
     "duration": 0.076515,
     "end_time": "2021-06-22T12:32:18.352244",
     "exception": false,
     "start_time": "2021-06-22T12:32:18.275729",
     "status": "completed"
    },
    "tags": []
   },
   "outputs": [],
   "source": [
    "X=df.drop('Species',axis=1)\n",
    "y=df['Species']\n"
   ]
  },
  {
   "cell_type": "code",
   "execution_count": null,
   "id": "adult-internship",
   "metadata": {
    "execution": {
     "iopub.execute_input": "2021-06-22T12:32:18.466181Z",
     "iopub.status.busy": "2021-06-22T12:32:18.465597Z",
     "iopub.status.idle": "2021-06-22T12:32:23.896863Z",
     "shell.execute_reply": "2021-06-22T12:32:23.896181Z",
     "shell.execute_reply.started": "2021-05-30T08:59:29.309417Z"
    },
    "papermill": {
     "duration": 5.489168,
     "end_time": "2021-06-22T12:32:23.897005",
     "exception": false,
     "start_time": "2021-06-22T12:32:18.407837",
     "status": "completed"
    },
    "tags": []
   },
   "outputs": [],
   "source": [
    "from keras.models import Sequential\n",
    "from keras.layers import Dense\n",
    "from keras.utils import to_categorical"
   ]
  },
  {
   "cell_type": "code",
   "execution_count": null,
   "id": "filled-absolute",
   "metadata": {
    "execution": {
     "iopub.execute_input": "2021-06-22T12:32:24.015062Z",
     "iopub.status.busy": "2021-06-22T12:32:24.014131Z",
     "iopub.status.idle": "2021-06-22T12:32:24.017073Z",
     "shell.execute_reply": "2021-06-22T12:32:24.016562Z",
     "shell.execute_reply.started": "2021-05-30T08:59:29.324254Z"
    },
    "papermill": {
     "duration": 0.065053,
     "end_time": "2021-06-22T12:32:24.017209",
     "exception": false,
     "start_time": "2021-06-22T12:32:23.952156",
     "status": "completed"
    },
    "tags": []
   },
   "outputs": [],
   "source": [
    "df['Species'] = pd.Categorical(df.Species)\n",
    "df['Species'] = df.Species.cat.codes\n",
    "# Turn response variable into one-hot response vectory = to_categorical(df.response)\n",
    "y = to_categorical(df.Species)\n"
   ]
  },
  {
   "cell_type": "code",
   "execution_count": null,
   "id": "changing-details",
   "metadata": {
    "execution": {
     "iopub.execute_input": "2021-06-22T12:32:24.129906Z",
     "iopub.status.busy": "2021-06-22T12:32:24.129323Z",
     "iopub.status.idle": "2021-06-22T12:32:24.312640Z",
     "shell.execute_reply": "2021-06-22T12:32:24.312020Z",
     "shell.execute_reply.started": "2021-05-30T08:59:29.340303Z"
    },
    "papermill": {
     "duration": 0.24066,
     "end_time": "2021-06-22T12:32:24.312780",
     "exception": false,
     "start_time": "2021-06-22T12:32:24.072120",
     "status": "completed"
    },
    "tags": []
   },
   "outputs": [],
   "source": [
    "from sklearn.model_selection import train_test_split\n",
    "X_train,X_test,y_train,y_test = train_test_split(X,y,test_size=0.30,stratify=y,random_state=123)"
   ]
  },
  {
   "cell_type": "code",
   "execution_count": null,
   "id": "appointed-voluntary",
   "metadata": {
    "execution": {
     "iopub.execute_input": "2021-06-22T12:32:24.430083Z",
     "iopub.status.busy": "2021-06-22T12:32:24.428983Z",
     "iopub.status.idle": "2021-06-22T12:32:24.504948Z",
     "shell.execute_reply": "2021-06-22T12:32:24.504305Z",
     "shell.execute_reply.started": "2021-05-30T08:59:29.360604Z"
    },
    "papermill": {
     "duration": 0.136221,
     "end_time": "2021-06-22T12:32:24.505095",
     "exception": false,
     "start_time": "2021-06-22T12:32:24.368874",
     "status": "completed"
    },
    "tags": []
   },
   "outputs": [],
   "source": [
    "model=Sequential()\n",
    "model.add(Dense(100,activation='relu',input_shape=(4,)))\n",
    "\n",
    "model.add(Dense(3,activation='softmax'))"
   ]
  },
  {
   "cell_type": "code",
   "execution_count": null,
   "id": "chronic-sussex",
   "metadata": {
    "execution": {
     "iopub.execute_input": "2021-06-22T12:32:24.626035Z",
     "iopub.status.busy": "2021-06-22T12:32:24.620919Z",
     "iopub.status.idle": "2021-06-22T12:32:24.632950Z",
     "shell.execute_reply": "2021-06-22T12:32:24.633440Z",
     "shell.execute_reply.started": "2021-05-30T08:59:29.402312Z"
    },
    "papermill": {
     "duration": 0.073264,
     "end_time": "2021-06-22T12:32:24.633632",
     "exception": false,
     "start_time": "2021-06-22T12:32:24.560368",
     "status": "completed"
    },
    "tags": []
   },
   "outputs": [],
   "source": [
    "model.compile(optimizer='adam',loss='categorical_crossentropy',metrics=['accuracy'])"
   ]
  },
  {
   "cell_type": "code",
   "execution_count": null,
   "id": "diagnostic-folder",
   "metadata": {
    "_kg_hide-output": true,
    "execution": {
     "iopub.execute_input": "2021-06-22T12:32:24.746703Z",
     "iopub.status.busy": "2021-06-22T12:32:24.746116Z",
     "iopub.status.idle": "2021-06-22T12:32:28.604269Z",
     "shell.execute_reply": "2021-06-22T12:32:28.603590Z",
     "shell.execute_reply.started": "2021-05-30T08:59:29.418781Z"
    },
    "papermill": {
     "duration": 3.915751,
     "end_time": "2021-06-22T12:32:28.604447",
     "exception": false,
     "start_time": "2021-06-22T12:32:24.688696",
     "status": "completed"
    },
    "tags": []
   },
   "outputs": [],
   "source": [
    "history=model.fit(X_train,y_train,epochs=45,validation_data=(X_test, y_test))"
   ]
  },
  {
   "cell_type": "code",
   "execution_count": null,
   "id": "inappropriate-stanley",
   "metadata": {
    "execution": {
     "iopub.execute_input": "2021-06-22T12:32:28.776031Z",
     "iopub.status.busy": "2021-06-22T12:32:28.775396Z",
     "iopub.status.idle": "2021-06-22T12:32:28.833534Z",
     "shell.execute_reply": "2021-06-22T12:32:28.832997Z",
     "shell.execute_reply.started": "2021-05-30T08:59:33.178858Z"
    },
    "papermill": {
     "duration": 0.145631,
     "end_time": "2021-06-22T12:32:28.833671",
     "exception": false,
     "start_time": "2021-06-22T12:32:28.688040",
     "status": "completed"
    },
    "tags": []
   },
   "outputs": [],
   "source": [
    "model.evaluate(X_test,y_test)"
   ]
  },
  {
   "cell_type": "code",
   "execution_count": null,
   "id": "filled-processor",
   "metadata": {
    "execution": {
     "iopub.execute_input": "2021-06-22T12:32:29.010331Z",
     "iopub.status.busy": "2021-06-22T12:32:29.009670Z",
     "iopub.status.idle": "2021-06-22T12:32:29.116315Z",
     "shell.execute_reply": "2021-06-22T12:32:29.115589Z",
     "shell.execute_reply.started": "2021-05-30T08:59:33.247097Z"
    },
    "papermill": {
     "duration": 0.1956,
     "end_time": "2021-06-22T12:32:29.116498",
     "exception": false,
     "start_time": "2021-06-22T12:32:28.920898",
     "status": "completed"
    },
    "tags": []
   },
   "outputs": [],
   "source": [
    "pred = model.predict(X_test[:10])\n",
    "print(pred)"
   ]
  },
  {
   "cell_type": "code",
   "execution_count": null,
   "id": "final-anniversary",
   "metadata": {
    "_kg_hide-output": true,
    "execution": {
     "iopub.execute_input": "2021-06-22T12:32:29.317880Z",
     "iopub.status.busy": "2021-06-22T12:32:29.317200Z",
     "iopub.status.idle": "2021-06-22T12:32:29.319636Z",
     "shell.execute_reply": "2021-06-22T12:32:29.320210Z",
     "shell.execute_reply.started": "2021-05-30T08:59:33.326721Z"
    },
    "papermill": {
     "duration": 0.117057,
     "end_time": "2021-06-22T12:32:29.320550",
     "exception": false,
     "start_time": "2021-06-22T12:32:29.203493",
     "status": "completed"
    },
    "tags": []
   },
   "outputs": [],
   "source": [
    "p=np.argmax(pred,axis=1)\n",
    "print(p)\n",
    "print(y_test[:10])"
   ]
  },
  {
   "cell_type": "code",
   "execution_count": null,
   "id": "minus-matrix",
   "metadata": {
    "_kg_hide-output": true,
    "execution": {
     "iopub.execute_input": "2021-06-22T12:32:29.491331Z",
     "iopub.status.busy": "2021-06-22T12:32:29.490683Z",
     "iopub.status.idle": "2021-06-22T12:32:29.498037Z",
     "shell.execute_reply": "2021-06-22T12:32:29.498474Z",
     "shell.execute_reply.started": "2021-05-30T08:59:33.336241Z"
    },
    "papermill": {
     "duration": 0.094252,
     "end_time": "2021-06-22T12:32:29.498632",
     "exception": false,
     "start_time": "2021-06-22T12:32:29.404380",
     "status": "completed"
    },
    "tags": []
   },
   "outputs": [],
   "source": [
    "history.history['accuracy']"
   ]
  },
  {
   "cell_type": "code",
   "execution_count": null,
   "id": "southeast-subsection",
   "metadata": {
    "_kg_hide-output": true,
    "execution": {
     "iopub.execute_input": "2021-06-22T12:32:29.674377Z",
     "iopub.status.busy": "2021-06-22T12:32:29.673488Z",
     "iopub.status.idle": "2021-06-22T12:32:29.676972Z",
     "shell.execute_reply": "2021-06-22T12:32:29.677416Z",
     "shell.execute_reply.started": "2021-05-30T08:59:33.348892Z"
    },
    "papermill": {
     "duration": 0.094097,
     "end_time": "2021-06-22T12:32:29.677576",
     "exception": false,
     "start_time": "2021-06-22T12:32:29.583479",
     "status": "completed"
    },
    "tags": []
   },
   "outputs": [],
   "source": [
    "history.history['val_accuracy']"
   ]
  },
  {
   "cell_type": "code",
   "execution_count": null,
   "id": "thermal-festival",
   "metadata": {
    "execution": {
     "iopub.execute_input": "2021-06-22T12:32:29.904113Z",
     "iopub.status.busy": "2021-06-22T12:32:29.903055Z",
     "iopub.status.idle": "2021-06-22T12:32:30.022259Z",
     "shell.execute_reply": "2021-06-22T12:32:30.022799Z",
     "shell.execute_reply.started": "2021-05-30T08:59:33.365413Z"
    },
    "papermill": {
     "duration": 0.261118,
     "end_time": "2021-06-22T12:32:30.022993",
     "exception": false,
     "start_time": "2021-06-22T12:32:29.761875",
     "status": "completed"
    },
    "tags": []
   },
   "outputs": [],
   "source": [
    "plt.figure()\n",
    "\n",
    "\n",
    "plt.plot(history.history['accuracy'])\n",
    "plt.plot(history.history['val_accuracy'])\n",
    "\n",
    "plt.title('Model accuracy')\n",
    "plt.ylabel('Accuracy')\n",
    "plt.xlabel('Epoch')\n",
    "plt.legend(['Train', 'Test'])\n",
    "plt.show()\n",
    "\n"
   ]
  },
  {
   "cell_type": "code",
   "execution_count": null,
   "id": "b4970957",
   "metadata": {},
   "outputs": [],
   "source": []
  }
 ],
 "metadata": {
  "kernelspec": {
   "display_name": "Python 3 (ipykernel)",
   "language": "python",
   "name": "python3"
  },
  "language_info": {
   "codemirror_mode": {
    "name": "ipython",
    "version": 3
   },
   "file_extension": ".py",
   "mimetype": "text/x-python",
   "name": "python",
   "nbconvert_exporter": "python",
   "pygments_lexer": "ipython3",
   "version": "3.10.9"
  },
  "papermill": {
   "default_parameters": {},
   "duration": 33.884284,
   "end_time": "2021-06-22T12:32:32.172964",
   "environment_variables": {},
   "exception": null,
   "input_path": "__notebook__.ipynb",
   "output_path": "__notebook__.ipynb",
   "parameters": {},
   "start_time": "2021-06-22T12:31:58.288680",
   "version": "2.3.3"
  }
 },
 "nbformat": 4,
 "nbformat_minor": 5
}
